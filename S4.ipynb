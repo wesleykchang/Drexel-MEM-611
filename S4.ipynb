{
 "cells": [
  {
   "cell_type": "markdown",
   "metadata": {},
   "source": [
    "# Session 4: One Dimensional Steady-state Conduction\n",
    "\n",
    "## Session 3 Recap\n",
    "\n",
    "Derivation of the general heat conduction equation and simplication to the Laplace equation \n",
    "\n",
    "## One dimensional, steady-state\n",
    "\n",
    "- One dimensional: heat transfer occurs only along a single coordinate axis \n",
    "- Steady-state: temperature at each point does not vary with time \n",
    "\n",
    "Remember, steady-state conditions with no internal energy source or sink means using the Laplace equation: \n",
    "\n",
    "$$\\frac{d^2 T}{dx^2} =\\ 0 $$\n",
    "\n",
    "Solving by integration:\n",
    "\n",
    "$$T(x)\\ =\\ C_1 x\\ +\\ C_2 $$\n",
    "\n",
    "Use the following boundary conditions:\n",
    "\n",
    "$$T(x=0)\\ =\\ T_1,\\ T(x=L)\\ =\\ T_2$$\n",
    "\n",
    "$$C_2\\ =\\ T_1 $$\n",
    "\n",
    "$$C_1\\ =\\ \\frac{T_2 - T_1}{L} $$\n",
    "\n",
    "Therefore:\n",
    "\n",
    "$$T(x)\\ =\\ (T_2\\ -\\ T_1)*x/L\\ +\\ T_1 $$"
   ]
  }
 ],
 "metadata": {
  "language_info": {
   "name": "python"
  },
  "orig_nbformat": 4
 },
 "nbformat": 4,
 "nbformat_minor": 2
}
