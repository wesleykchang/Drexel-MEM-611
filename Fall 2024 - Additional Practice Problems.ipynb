{
 "cells": [
  {
   "cell_type": "markdown",
   "metadata": {},
   "source": [
    "1. Derive an expression for the steady-state temperature distribution in a plane wall of thickness L with uniformly disributed heat sources $\\dot{q}$. The surface of the wall at x = 0 is at a constant temperature $T_1$ and the other surface at x = L is at constant $T_2$. The thermal conductivity is assumed to be constant. \n",
    "\n",
    "2. A motor is in the form of a hollow tube with inner radius $r_i$ and outer radius $r_o$, and is made of radioactive material that generates a heat source of $\\dot{q}$. The inner surface transfers heat to a flowing gas at temperature $T_f$ with heat transfer coefficient h. The outer surface is insulated. Provide an expression for the temperature distribution. \n",
    "\n"
   ]
  }
 ],
 "metadata": {
  "language_info": {
   "name": "python"
  }
 },
 "nbformat": 4,
 "nbformat_minor": 2
}
