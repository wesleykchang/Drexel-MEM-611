{
 "cells": [
  {
   "cell_type": "markdown",
   "metadata": {},
   "source": [
    "## Project: Thermal Conductivity Measurements\n",
    "\n",
    "### Methodology \n",
    "\n",
    "1. download Arduino IDE on your computer and connect the Elegoo \n",
    "    - https://www.arduino.cc/en/software\n",
    "    - install any relevant libraries \n",
    "2. wire up the two thermistors correctly to the Elegoo microcontroller\n",
    "    - https://www.circuitbasics.com/arduino-thermistor-temperature-sensor-tutorial/ \n",
    "    - also see Elegoo manual \n",
    "3. setup the arduino script to read temperature measurements from both thermistors\n",
    "\n",
    "~~~\n",
    "    int ThermistorPin = 0;\n",
    "    int Vo;\n",
    "    float R1 = 10000;\n",
    "    float logR2, R2, T;\n",
    "    float c1 = 1.009249522e-03, c2 = 2.378405444e-04, c3 = 2.019202697e-07;\n",
    "\n",
    "    void setup() {\n",
    "    Serial.begin(9600);\n",
    "    }\n",
    "\n",
    "    void loop() {\n",
    "\n",
    "    Vo = analogRead(ThermistorPin);\n",
    "    R2 = R1 * (1023.0 / (float)Vo - 1.0);\n",
    "    logR2 = log(R2);\n",
    "    T = (1.0 / (c1 + c2*logR2 + c3*logR2*logR2*logR2)); #Steinhart-Hart Equation\n",
    "    T = T - 273.15;\n",
    "    T = (T * 9.0)/ 5.0 + 32.0; \n",
    "\n",
    "    Serial.print(\"Temperature: \"); \n",
    "    Serial.print(T);\n",
    "    Serial.println(\" F\"); \n",
    "\n",
    "    delay(500);\n",
    "    }\n",
    "~~~\n",
    "\n",
    "4. wire up the heating element to the 12 V power supply (safely, make sure the wires have no chance of touching) and plug the power supply into an outlet. wait for it to get hot\n",
    "5. put the thermistor on the hot element to measure its temperature first (might need to wait for stabilization)\n",
    "6. after getting the hot element temperature, immediately after placing the hot element on your material, place the thermistor at the other end and record the delta T from ambient\n",
    "5. determine the thermal conductivity from known power and two boundary temperature values, and compare with known value\n",
    "6. rank everyone's materials from lowest to highest thermal conductivity "
   ]
  }
 ],
 "metadata": {
  "language_info": {
   "name": "python"
  },
  "orig_nbformat": 4
 },
 "nbformat": 4,
 "nbformat_minor": 2
}
