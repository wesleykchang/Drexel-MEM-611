{
 "cells": [
  {
   "attachments": {},
   "cell_type": "markdown",
   "metadata": {},
   "source": [
    "# Session 1: Introduction to Conduction Heat Transfer\n",
    "\n",
    "## Prelude\n",
    "\n",
    "What do we want to learn in this class? \n",
    "- Heat transfer, but also: why heat transfer could be important to your graduate research, and what are some key practical takeaways for your research and future career aspirations \n",
    "- Conventionally: concepts, with a lot of math. Math is hard. Therefore, we'll use Python to do the legwork for us. Also, concepts can be nebulous. We'll use Python to visualize things and practical demos/projects to illustrate and test our understanding\n",
    "\n",
    "## Introduction\n",
    "\n",
    "What is heat transfer? **Heat transfer is thermal energy in transit due to a spatial temperature difference** \n",
    "\n",
    "Some practical applications of heat transfer:\n",
    "- Thermoelectric coolers in computers and some refrigerators\n",
    "- Air and liquid coolants for electric vehicle battery packs \n",
    "\n",
    "Three modes of heat transfer\n",
    "- Conduction: process of heat transfer by molecular motion, along with flow of free electrons and lattice vibrations from regions of high temperature to regions of low temperature\n",
    "- Convection: process of heat transfer by movement of fluid \n",
    "- Radiation: process of heat transfer in the form of electromagnetic waves (i.e. materials emit radiation as a result of their temperature)\n",
    "*in practice, heat transfer occurs by a combination of all 3, but for simplicity we focus on each aspect separately \n",
    "\n",
    "What is conduction? **Heat transfer that occurs across a medium**\n",
    "- Temperature is generally associated with the energy of gas molecules in proximity to a reference point, and is related to both random translational motion and internal rotational and vibrational motions of molecules\n",
    "- However, engineers don't really care about every single molecular action. We work with practical devices like batteries, automobiles and HVAC systems, so generally we assume a macroscopic average. \n",
    "\n",
    "### Thermo redux\n",
    "- A **system** is an arbitrary collection of matter of fixed identity, bounded by a closed surface. Everything else is known as the **surroundings** \n",
    "- 1st Law of Thermo: $$ dE = \\delta Q - \\delta W $$ for an infinitesimal change of state during time interval dt (i.e. \"energy cannot be created or destroyed, only transferred\")\n",
    "- 2nd Law of Thermo: a system cannot move heat from low to high temperature if unaided by something external ($$ dS = \\frac{\\delta Q}{T}_{rev} $$)\n",
    "\n"
   ]
  }
 ],
 "metadata": {
  "language_info": {
   "name": "python"
  },
  "orig_nbformat": 4
 },
 "nbformat": 4,
 "nbformat_minor": 2
}
