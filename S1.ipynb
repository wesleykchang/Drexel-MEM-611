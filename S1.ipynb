{
 "cells": [
  {
   "attachments": {},
   "cell_type": "markdown",
   "metadata": {},
   "source": [
    "# Session 1: Introduction to Conductive Heat Transfer\n",
    "\n",
    "## Prelude\n",
    "\n",
    "What do we want to learn in this class? \n",
    "- Heat transfer, but also: why heat transfer could be important to your graduate research, and what are some key practical takeaways for your research and future career aspirations \n",
    "- Conventionally: concepts, with a lot of math. Math is hard. Therefore, we'll use Python to do the legwork for us. Also, concepts can be nebulous. We'll use Python to visualize things and practical demos/projects to illustrate and test our understanding\n",
    "\n",
    "## Introduction\n",
    "\n",
    "What is heat transfer? **Heat transfer is thermal energy in transit due to a spatial temperature difference** \n",
    "\n",
    "What is conduction? **Heat transfer that occurs across a medium**\n",
    "- Temperature is generally associated with the energy of gas molecules in proximity to a reference point, and is related to both random translational motion and internal rotational and vibrational motions of molecules\n",
    "- However, engineers don't really care about every single molecular action. We work with practical devices like batteries, automobiles and HVAC systems, so generally we assume a macroscopic average. "
   ]
  }
 ],
 "metadata": {
  "language_info": {
   "name": "python"
  },
  "orig_nbformat": 4
 },
 "nbformat": 4,
 "nbformat_minor": 2
}
