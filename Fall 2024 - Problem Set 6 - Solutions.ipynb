{
 "cells": [
  {
   "cell_type": "markdown",
   "metadata": {},
   "source": [
    "1. Perform the inverse Laplace transform using the Laplace table \n",
    "\n",
    "$\\mathscr{L}^{-1} (T_i/p)\\ +\\ \\frac{q'' }{k} \\mathscr{L}^{-1} (\\frac{e^{-x \\sqrt{p/\\alpha}}}{p \\sqrt{p/\\alpha}})$\n",
    "\n",
    "$T\\ =\\ T_i\\ +\\ \\frac{q''}{k} [2(\\alpha t/\\pi)^{1/2} e^{-x^2/4\\alpha t}\\ -\\ x erfc(x/2(\\alpha t)^{1/2})]$"
   ]
  },
  {
   "cell_type": "markdown",
   "metadata": {},
   "source": [
    "2.\n",
    "\n",
    "Suppose $\\theta\\ =\\ \\frac{T(r,t)\\ -\\ T_s}{T_i\\ -\\ T_s}$\n",
    "\n",
    "$\\eta\\ =\\ \\frac{r}{2 \\sqrt{\\alpha t}}$\n",
    "\n",
    "$\\frac{\\partial T}{\\partial r}\\ =\\ \\frac{\\partial T}{\\partial \\eta} \\frac{\\partial \\eta}{\\partial r}\\ =\\ \\frac{\\partial T}{\\partial \\eta} \\frac{1}{2 \\sqrt{\\alpha t}}$\n",
    "\n",
    "$\\frac{\\partial ^2 T}{\\partial r^2}\\ =\\ \\frac{\\partial}{\\partial r} (\\frac{\\partial T}{\\partial \\eta} \\frac{1}{2 \\sqrt{\\alpha t}})\\ =\\ \\frac{1}{4 \\alpha t} \\frac{\\partial ^2 T}{\\partial \\eta ^2}$\n",
    "\n",
    "$\\frac{\\partial T}{\\partial t}\\ =\\ \\frac{\\partial T}{\\partial \\eta} \\frac{\\partial \\eta}{\\partial t}\\ =\\ \\frac{\\partial T}{\\partial \\eta} (\\frac{-\\alpha r}{4 (\\alpha t)^{3/2}})$\n",
    "\n",
    "plugging into $\\frac{\\partial ^2 T}{\\partial r^2}\\ +\\ \\frac{1}{r} \\frac{\\partial T}{\\partial r}\\ =\\ \\frac{1}{\\alpha} \\frac{\\partial T}{\\partial t}$\n",
    "\n",
    "$\\frac{\\partial ^2 T}{\\partial \\eta ^2}\\ +\\ (2\\eta\\ +\\ 1/\\eta) \\frac{\\partial T}{\\partial \\eta}\\ =\\ 0$\n",
    "\n",
    "$\\frac{\\partial ^2 \\theta}{\\partial \\eta ^2}\\ +\\ (2\\eta\\ +\\ 1/\\eta) \\frac{\\partial \\theta}{\\partial \\eta}\\ =\\ 0$"
   ]
  }
 ],
 "metadata": {
  "language_info": {
   "name": "python"
  }
 },
 "nbformat": 4,
 "nbformat_minor": 2
}
