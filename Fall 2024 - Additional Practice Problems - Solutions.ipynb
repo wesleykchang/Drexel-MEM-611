{
 "cells": [
  {
   "cell_type": "markdown",
   "metadata": {},
   "source": [
    "1. Derive an expression for the steady-state temperature distribution in a plane wall of thickness L with uniformly distributed heat sources $\\dot{q}$. The surface of the wall at x = 0 is at a constant temperature $T_1$ and the other surface at x = L is at constant $T_2$. The thermal conductivity is assumed to be constant. \n",
    "\n",
    "a) first draw your schematic and write down the general equation and boundary conditions\n",
    "\n",
    "$\\frac{d^2 T}{dx^2}\\ +\\ \\frac{\\dot{q}}{k}\\ =\\ 0$ where we assume a one dimensional cartesian coordinate problem at steady-state, constant k. \n",
    "\n",
    "$T(0)\\ =\\ T_1$ and $T(L)\\ =\\ T_2$\n",
    "\n",
    "b) solve the general equation\n",
    "\n",
    "$T(x)\\ =\\ -\\frac{\\dot{q}x^2}{2k}\\ +\\ c_1x\\ +\\ c_2$\n",
    "\n",
    "c) use the boundary conditions \n",
    "\n",
    "$T(0)\\ =\\ c_2\\ =\\ T_1$\n",
    "\n",
    "$T(L)\\ =\\ -\\frac{\\dot{q}L^2}{2k}\\ +\\ c_1 L\\ +\\ T_1\\ =\\ T_2\\ \\rightarrow\\ c_1\\ =\\ \\frac{T_2\\ -\\ T_1}{L}\\ +\\ \\frac{\\dot{q}L}{2k}$\n",
    "\n",
    "d) solve\n",
    "\n",
    "$T(x)\\ =\\ T_1\\ +\\ \\frac{T_2\\ -\\ T_1}{L}x\\ +\\ \\frac{\\dot{q}x}{2k}[L-x]$\n"
   ]
  },
  {
   "cell_type": "markdown",
   "metadata": {},
   "source": [
    "2. A motor is in the form of a hollow tube with inner radius $r_i$ and outer radius $r_o$, and is made of radioactive material that generates a heat source of $\\dot{q}$. The inner surface transfers heat to a flowing gas at temperature $T_f$ with heat transfer coefficient h. The outer surface is insulated. Provide an expression for the temperature distribution. \n",
    "\n",
    "a) draw schematic and write down general equation and boundary conditions\n",
    "\n",
    "$\\frac{d^2 T}{dr^2}\\ +\\ \\frac{1}{r}\\frac{dT}{dr}\\ +\\ \\frac{\\dot{q}}{k}\\ =\\ 0$ assuming one dimensional (r) cylindrical coordinates, with constant k and at steady-state\n",
    "\n",
    "$k\\frac{dT(r_i)}{dr}\\ =\\ h[T(r_i)\\ -\\ T_f]$ is one boundary condition at the inner surface, where conductive heat transfer from the wall surface is equated with convective heat transport in the fluid with constant heat transfer coefficient h\n",
    "\n",
    "$\\frac{dT(r_0)}{dr}\\ =\\ 0$ is the other boundary condition at the outer surface, which is insulated (so no heat transfer, and temperature is constant)\n",
    "\n",
    "b) solve: $T(r)\\ =\\ \\frac{-\\dot{q}r^2}{4k}\\ +\\ c_1 ln(r)\\ +\\ c_2$\n",
    "\n",
    "C) use the boundary conditions:\n",
    "\n",
    "$\\frac{dT(r_0)}{dr}\\ =\\ \\frac{-\\dot{q}r_o}{2k}\\ +\\ \\frac{c_1}{r}\\ =\\ 0\\ \\rightarrow\\ c_1\\ =\\ \\frac{\\dot{q}r_o^2}{2k}$\n",
    "\n",
    "$k\\frac{dT(r_i)}{dr}\\ =\\ \\frac{-\\dot{q}r_o}{2k}\\ +\\ \\frac{\\dot{q}r_o^2}{2kr}\\ =\\ h[\\frac{-\\dot{q}r_i^2}{4k}\\ +\\ ln(r) \\frac{\\dot{q}r_i^2}{2k}\\ +\\ c_2\\ -\\ T_f]$\n",
    "\n",
    "$c_2\\ =\\ T_f\\ +\\ \\frac{\\dot{q}r_i^2}{4k} [1\\ -\\ 2(r_o/r_i)^2 ln(r_i)\\ +\\ \\frac{2k}{hr_i}[1\\ -\\ (r_o/r_i)^2]]$"
   ]
  },
  {
   "cell_type": "markdown",
   "metadata": {},
   "source": [
    "3. Use the method of separation of variables to obtain the steady-state temperature profile T(x,y) of the rectangular cross-section as shown: \n",
    "\n",
    "As in other similar problems, assume $T = X(x)*Y(y)$. This is separable because there is only one inhomogeneous boundary condition $T(a,y)\\ =\\ f(y)$\n",
    "\n",
    "Solve Y: $\\frac{d^2Y}{dy^2}\\ +\\ \\lambda ^2 Y\\ =\\ 0$\n",
    "\n",
    "Solve X: $\\frac{d^2 X}{dx^2}\\ -\\ \\lambda ^2 X\\ =\\ 0$\n",
    "\n",
    "Plug in boundary conditions to solve for the temperature profile. $T(x,0)\\ =\\ 0$ gets us $c_4\\ =\\ 0$ and $T(x,b)\\ =\\ 0$ gets us $\\lambda\\ =\\ n\\pi/b,\\ n\\ =\\ 1,2,3,...$\n",
    "\n",
    "$T(0,y)\\ =\\ 0$ gets us $c_1 sinh(\\lambda x)\\ +\\ c_2 cosh(\\lambda x)\\ =\\ c_1*0\\ +\\ c_2*1\\ = \\ c_2\\ =\\ 0$\n",
    "\n",
    "Thus,\n",
    "\n",
    "$T(x,y)\\ =\\ (c_1 sinh (\\lambda x))(c_3 sin(\\lambda y))$ where $\\lambda _n\\ =\\ n\\pi/b,\\ n\\ =\\ 1,2,3,...$\n",
    "\n",
    "Otherwise written as:\n",
    "\n",
    "$T(x,y)\\ =\\ \\sum _{n=1}^\\infty a_n sinh(\\lambda _n x) sinh(\\lambda _n y)$\n",
    "\n",
    "using the last boundary condition: $f(y)\\ =\\ \\sum _{n=1}^\\infty a_n sin(\\lambda _n a) sin(\\lambda _n y)\\ =\\ \\sum _{n=1}^\\infty b_n sin(\\lambda _n y)$\n",
    "\n",
    "where $b_n\\ =\\ 2/b \\int _0^b f(y) sin(\\lambda _n y) dy$\n",
    "\n",
    "the temperature profile is: $T(x,y)\\ =\\ 2/b \\int _{n=1}^\\infty \\frac{sinh(n\\pi x/b) sin(n\\pi y/b)}{sinh(n\\pi a/b)} \\int _0^b f(y) sin(n\\pi y/b)dy$\n",
    "\n"
   ]
  },
  {
   "cell_type": "markdown",
   "metadata": {},
   "source": [
    "\n",
    "4. Now consider a similar problem but with two inhomogeneous boundary conditions, as shown. Use a change of variable such that $\\theta (x,y)\\ =\\ T(x,y)\\ -\\ T_1$ and solve assuming that the problem is linear. \n",
    "\n",
    "Using $\\theta (x,y)\\ =\\ T(x,y)\\ -\\ T_1$:\n",
    "\n",
    "$\\frac{\\partial ^2 \\theta}{\\partial x^2}\\ +\\ \\frac{\\partial ^2 \\theta}{\\partial y^2}\\ =\\ 0$\n",
    "\n",
    "with new boundary conditions $\\frac{\\partial \\theta (0,y)}{\\partial x}\\ =\\ 0$, $\\theta (a,y)\\ =\\ T_1\\ -\\ T_1\\ =\\ 0$, $\\frac{\\partial \\theta (x,0)}{\\partial y}\\ =\\ 0$, $\\theta (x,b)\\ =\\ T_2\\ -\\ T_1\\ =\\ \\theta _0$\n",
    "\n",
    "Use separation of variables $\\theta (x,y)\\ =\\ X(x)*Y(y)$\n",
    "\n",
    "For X we get: $X_n(x)\\ =\\ c_2 cos(\\lambda _n x)$, $\\lambda _n\\ =\\ (2n + 1)\\pi/2a,\\ n\\ =\\ 0,1,2,...$\n",
    "\n",
    "For Y we get: $Y_n(y)\\ =\\ c_4 cosh(\\lambda _n y)$\n",
    "\n",
    "Therefore: $\\sum _{n=0}^\\infty a_n cos(\\lambda _n x) cosh(\\lambda _n y)$\n",
    "\n",
    "Using the last boundary condition: $\\theta _0\\ =\\ \\sum _{n=0}^\\infty a_n cosh(\\lambda _n b)cos(\\lambda _n x)$\n",
    "\n",
    "where $a_n\\ =\\ \\frac{\\theta _0}{cosh(\\lambda _n b)} \\frac{\\int _0^a cos(\\lambda _n x)dx}{\\int _0^a cos^2(\\lambda _n x)dx}$"
   ]
  }
 ],
 "metadata": {
  "language_info": {
   "name": "python"
  }
 },
 "nbformat": 4,
 "nbformat_minor": 2
}
