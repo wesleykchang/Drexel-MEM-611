{
 "cells": [
  {
   "cell_type": "markdown",
   "metadata": {},
   "source": [
    "## Unsteady-state Heat Conduction\n",
    "\n",
    "- Most real situations are time-dependent, i.e. initial temperature distribution may not be in thermal equilibrium with the boundary temperature \n",
    "    e.g. batteries generate their own heat upon charge and discharge, but are also thermally heated and cooled with external coolant fluid in EVs \n",
    "- Biot number is a dimensionless value that indicates this - internal heat resistance versus surface resistance. Bi << 1 if surface resistance dominates and internal resistance is low. in other words, heat transfer to the system is instantaneously distributed throughout the entire system such that temperature is immediately uniform throughout \n",
    "\n",
    "$$\\delta^2 T/\\delta x^2\\ =\\ 1/\\alpha \\delta T/\\delta t$$\n",
    "\n",
    "with B.C.'s $$T(x,0)\\ =\\ f(x);\\ T(0,t)\\ =\\ 0; T(L,t)\\ =\\ 0 $$\n",
    "\n"
   ]
  }
 ],
 "metadata": {
  "language_info": {
   "name": "python"
  },
  "orig_nbformat": 4
 },
 "nbformat": 4,
 "nbformat_minor": 2
}
