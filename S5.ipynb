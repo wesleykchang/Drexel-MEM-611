{
 "cells": [
  {
   "cell_type": "markdown",
   "metadata": {},
   "source": [
    "# Session 5: Unsteady-state Heat Conduction\n",
    "\n",
    "## Session 4 Recap: Steady-State 2D Heat Conduction\n",
    "\n",
    "[10 min]\n",
    "- characteristic values\n",
    "- separation of variables and Fourier transforms\n",
    "- 2D model in Python\n",
    "\n",
    "## Discussion of thermal energy storage (Antora)\n",
    "\n",
    "[10 min] - individually go over the readings from last week to recall\n",
    "\n",
    "[15 min] - in groups, discuss each of the below questions\n",
    "\n",
    "group 1: describe the technology in brief and what need/problem it is solving \n",
    "    - where does the energy input come from? what form is it converted to? \n",
    "    - how big is a prototype? how much energy can it store? \n",
    "\n",
    "group 2: what mode(s) of heat transfer are likely utilized in the technology? how are the modes utilized? which might be the most efficient form of distributing heat? \n",
    "\n",
    "group 3: what do you foresee as a benefit to their posed solution, and what might be a challenge? \n",
    "    - what are other types of technologies for energy storage (list them out), with or without heat transfer; how do they compare in terms of:\n",
    "        - size and material needs, lifetime, energy efficiency, cost (both capex and opex)\n",
    "    - hypothetically if you worked here as a coop, how would you contribute? \n",
    "\n",
    "[10 min] - as a class, sum up the main points, each group to share their conclusions\n",
    "\n",
    "## Unsteady-state Heat Conduction\n",
    "\n",
    "- While the previous sessions focused on steady-state (time-independent) behavior of heat transfer, practical situations are generally time-dependent. \n",
    "    e.g. batteries generate their own heat upon charge and discharge, but are also thermally heated and cooled with external coolant fluid in EVs \n",
    "- Biot number is a dimensionless value that indicates this - internal heat resistance versus surface resistance. Bi << 1 if surface resistance dominates and internal resistance is low. in other words, heat transfer to the system is instantaneously distributed throughout the entire system such that temperature is immediately uniform throughout \n",
    "\n",
    "### Example 1\n",
    "\n",
    "Say we have an idealized situation where heat transfer is only in one dimension (x) and y and z directions have no temperature gradients\n",
    "\n",
    "$$\\frac{d^2 T}{dx^2}\\ =\\ \\frac{1}{\\alpha} \\frac{dT}{dt}$$\n",
    "\n",
    "with boundary conditions $$T(x,0)\\ =\\ f(x)\\\\ T(0,t)\\ =\\ 0\\\\ T(L,t)\\ =\\ 0 $$\n",
    "\n",
    "as before, if we assume a solution exists that allows for separation of variables, then: $$T(x,t)\\ =\\ e^{-\\alpha \\lambda ^2 t}(A*sin(\\lambda x)+B*cos(\\lambda x)) $$\n",
    "\n",
    "1. apply separation of variables\n",
    "\n",
    "$$T(x,t)\\ =\\ X(x)*\\Gamma(t) $$\n",
    "\n",
    "$$\\Gamma(t)\\frac{d^2X}{dx^2}\\ =\\ 1/\\alpha * X(x)* \\frac{dT}{dt} = $$\n",
    "\n",
    "$$\\frac{1}{X(x)}*\\frac{d^2X}{dx^2} =  1/(\\alpha *\\Gamma(t))* \\frac{dT}{dt}$$\n",
    "\n",
    "Set both sides equal to a constant, $$-\\lambda^2 $$\n",
    "\n",
    "2. solve\n",
    "\n",
    "integrate RHS: $$1/\\alpha * ln(\\Gamma(t))\\ =\\ -\\lambda^2 * t$$\n",
    "\n",
    "$$\\Gamma(t)\\ =\\ e^{-\\alpha * \\lambda^2 t} $$\n",
    "\n",
    "integrate LHS: $$\\frac{d^2 X}{dx^2}\\ +\\ \\lambda^2*X(x)\\ =\\ 0 $$\n",
    "\n",
    "$$X(x)\\ =\\ A*sin(\\lambda x)\\ +\\ B*cos(\\lambda x) $$\n",
    "\n",
    "3. apply BCs\n",
    "\n",
    "$$ T(x,t)\\ =\\ e^{-\\alpha  \\lambda ^2 t} *(A*sin(\\lambda x)\\ +\\ B*cos(\\lambda x))$$\n",
    "\n",
    "a) $$T(0,t)\\ =\\ e^{-\\alpha  \\lambda ^2 t} * B\\ =\\ 0 $$\n",
    "$$B\\ =\\ 0,\\ A\\ =\\ finite $$\n",
    "\n",
    "b) $$T(L,t)\\ =\\ e^{-\\alpha  \\lambda ^2 t} *(A*sin(\\lambda L)\\ =\\ 0$$\n",
    "\n",
    "c) initial condition: $$T(x,0)\\ =\\  A*sin(\\lambda x)\\ =\\ f(x)$$\n",
    "\n",
    "$$T(x,t)\\ =\\ \\sum _{n=1}^{inf} A_n e^{-\\alpha \\lambda _n^2 t} sin(\\lambda _n x) $$\n",
    "\n",
    "$$f(x)\\ =\\ \\sum_{n=1}^{inf} A_n sin(n\\pi x/L) $$\n",
    "\n",
    "looking at Table 4.1, this is the Fourier sine expansion of f(x) on the interval (0, L)\n",
    "\n",
    "$$A_n\\ =\\ 2/L * \\int _0^L f(x) sin(n\\pi x/L) dx $$\n",
    "\n",
    "$$T(x,t)\\ =\\ 2/L \\sum _{n=1}^\\infty e^{-\\alpha (n\\pi /L)^2 t} sin(n \\pi x/ L) \\int _0^L f(x) sin(n\\pi x/L) dx $$\n",
    "\n"
   ]
  },
  {
   "cell_type": "markdown",
   "metadata": {},
   "source": [
    "### Example 2\n",
    "\n",
    "Now consider sample problem with initial condition T(x,0) = f(x)\n",
    "and boundary conditions T(0,t) = T1 and T(L,t) = T2\n",
    "\n",
    "We can assume solution is a superposition of the initial steady-state solution (T_s) and the transient solution (T_t)\n",
    "\n",
    "The steady-state solution is readily known from before (see Sessions 2 and 3): it's a linear relationship\n",
    "\n",
    "$$T_s (x)\\ =\\ T_1\\ -\\ (T_1\\ -\\ T_2)*x/L $$\n",
    "\n",
    "The transient solution was just found:\n",
    "\n",
    "$$T_t(x,t)\\ =\\ \\sum _{n=1}^{\\infty} A_n e^{-\\alpha (n\\pi /L)^2 t} sin(n*\\pi x/L) $$\n",
    "\n",
    "Therefore, solution is: \n",
    "\n",
    "$$T(x,t) =\\ T_1\\ -\\ (T_1\\ -\\ T_2)*x/L\\ +\\ \\sum _{n=1}^{\\infty} A_n e^{-\\alpha (n\\pi /L)^2 t} sin(n \\pi x/L) $$\n",
    "\n",
    "Applying initial condition:\n",
    "\n",
    "$$ f(x)\\ =\\ T_1\\ -\\ (T_1\\ -\\ T_2)*x/L\\ +\\ \\sum _{n=1}^{\\infty} A_n  sin(n*\\pi x/L)$$\n",
    "\n",
    "Recognize the third term, once t = 0 and the exponential is gone, this reduces to the Fourier sine expansion of $$F(x)\\ =\\ f(x)\\ -\\ T_1\\ +\\ (T_1\\ -\\ T_2)*x/L $$\n",
    "\n",
    "$$ A_n\\ =\\ 2/L \\int _0^L F(x) sin(n\\pi x/L) dx$$\n",
    "\n",
    "$$T(x,t)\\ =\\ T_1\\ -\\ (T_1\\ -\\ T_2)*x/L\\ +\\ 2/L \\sum _{n=1}^{\\infty}  e^{-\\alpha (n\\pi /L)^2 t} sin(n \\pi x/L) \\int _0^L F(x) sin(n\\pi x/L)$$\n"
   ]
  },
  {
   "cell_type": "markdown",
   "metadata": {},
   "source": [
    "## Finite Difference Method\n",
    "\n",
    "$$T(x,y,t)\\ =\\ T_{x,y}^t $$\n",
    "\n",
    "$$\\frac{dT}{dt}\\ -\\ \\alpha * (\\frac{d^2T}{dx^2}\\ +\\ \\frac{d^2T}{dy^2})\\ =\\ 0 $$\n",
    "\n",
    "$$\\frac{T_{x,y}^{t+1}\\ -\\ T_{x,y}^{t}}{\\Delta t}\\ -\\ \\alpha (\\frac{T_{x+1,y}^t\\ -2*T_{x,y}^t\\ +\\ T_{x-1,y}^t}{\\Delta x^2}\\ +\\ \\frac{T_{x,y+1}^t\\ -2*T_{x,y}^t\\ +\\ T_{x,y-1}^t}{\\Delta y^2})\\ =\\ 0$$\n",
    "\n",
    "assuming $$\\Delta x\\ =\\ \\Delta y $$\n",
    "\n",
    "$$T_{x,y}^{t+1}\\ =\\ \\alpha \\frac{\\Delta t}{\\Delta x^2}*(T_{x+1,y}^t\\ +\\ T_{x-1,y}^t\\ +\\ T_{x,y-1}^t\\ +\\ T_{x,y+1}^t\\ -\\ 4T_{x,y}^t)\\ +\\ T_{x.y}^t $$"
   ]
  },
  {
   "cell_type": "code",
   "execution_count": 3,
   "metadata": {},
   "outputs": [],
   "source": [
    "## Citation: https://levelup.gitconnected.com/solving-2d-heat-equation-numerically-using-python-3334004aa01a\n",
    "\n",
    "import numpy as np\n",
    "import matplotlib.pyplot as plt\n",
    "import matplotlib.animation as animation\n",
    "from matplotlib.animation import FuncAnimation\n",
    "\n",
    "plate_length = 50\n",
    "max_iter_time = 1000\n",
    "\n",
    "alpha = 2.0\n",
    "delta_x = 1\n",
    "\n",
    "# Calculated params\n",
    "delta_t = (delta_x ** 2)/(4 * alpha) #if delta_t is any higher, it will result in a value greater than 1 multipled with T_x,y leading to a numerically unstable solution (values will just get bigger and bigger with each time step)\n",
    "gamma = (alpha * delta_t) / (delta_x ** 2) #this is the constant before the finite difference terms \n",
    "\n",
    "# Initialize solution: the grid of T(t, x, y)\n",
    "T = np.empty((max_iter_time, plate_length, plate_length))\n",
    "\n",
    "# Initial condition everywhere inside the grid\n",
    "T_initial = 0.0\n",
    "\n",
    "# Boundary conditions (fixed temperature)\n",
    "T_top = 100.0\n",
    "T_left = 0.0\n",
    "T_bottom = 0.0\n",
    "T_right = 0.0\n",
    "\n",
    "# Set the initial condition\n",
    "T.fill(T_initial)\n",
    "\n",
    "# Set the boundary conditions\n",
    "T[:, (plate_length-1):, :] = T_top\n",
    "T[:, :, :1] = T_left\n",
    "T[:, :1, 1:] = T_bottom\n",
    "T[:, :, (plate_length-1):] = T_right\n"
   ]
  },
  {
   "cell_type": "code",
   "execution_count": 4,
   "metadata": {},
   "outputs": [
    {
     "data": {
      "image/png": "[encoded data removed]",
      "text/plain": [
       "<Figure size 640x480 with 2 Axes>"
      ]
     },
     "metadata": {},
     "output_type": "display_data"
    }
   ],
   "source": [
    "def fdm(T):\n",
    "  for t in range(0, max_iter_time-1, 1):\n",
    "    for x in range(1, plate_length-1, delta_x):\n",
    "      for y in range(1, plate_length-1, delta_x):\n",
    "        T[t + 1, x, y] = gamma * (T[t][x+1][y] + T[t][x-1][y] + T[t][x][y+1] + T[t][x][y-1] - 4*T[t][x][y]) + T[t][x][y]\n",
    "  \n",
    "  return T\n",
    "\n",
    "def plotheatmap(T, k):\n",
    "  # Clear the current plot figure\n",
    "  plt.clf()\n",
    "  plt.title(f\"Temperature at t = {k*delta_t:.3f} unit time\")\n",
    "  plt.xlabel(\"x\")\n",
    "  plt.ylabel(\"y\")\n",
    "  \n",
    "  # This is to plot u_k (u at time-step k)\n",
    "  plt.pcolormesh(T, cmap=plt.cm.jet, vmin=0, vmax=100)\n",
    "  plt.colorbar()\n",
    "  \n",
    "  return plt\n",
    "\n",
    "T = fdm(T)\n",
    "k = 998\n",
    "plotheatmap(T[k], k)\n",
    "plt.show()"
   ]
  },
  {
   "cell_type": "code",
   "execution_count": 18,
   "metadata": {},
   "outputs": [
    {
     "data": {
      "text/html": [
       "<video controls src=\"heat_equation_solution.mp4\" width=\"640\" height=\"480\"></video>"
      ],
      "text/plain": [
       "<IPython.core.display.HTML object>"
      ]
     },
     "execution_count": 18,
     "metadata": {},
     "output_type": "execute_result"
    },
    {
     "data": {
      "image/png": "[encoded data removed]",
      "text/plain": [
       "<Figure size 640x480 with 2 Axes>"
      ]
     },
     "metadata": {},
     "output_type": "display_data"
    }
   ],
   "source": [
    "from IPython.display import HTML\n",
    "\n",
    "def animate(k):\n",
    "    plotheatmap(T[k], k)\n",
    "\n",
    "interval = 5 #time in milliseconds between frames \n",
    "anim = animation.FuncAnimation(plt.figure(), animate, interval=interval, frames=max_iter_time, repeat=False)\n",
    "anim.save(\"heat_equation_solution.mp4\")\n",
    "\n",
    "file = \"heat_equation_solution.mp4\"\n",
    "\n",
    "# Use the HTML function to embed the video\n",
    "HTML(f'<video controls src=\"{file}\" width=\"640\" height=\"480\"></video>')"
   ]
  },
  {
   "cell_type": "markdown",
   "metadata": {},
   "source": [
    "\n",
    "### Example 3\n",
    "\n",
    "A slab with length L (x-direction) is at temperature T0 initially. Surface temperatures are always at T1 (x = 0) and T2 (x = L). What is the transient temperature solution?\n",
    "\n",
    "$$ f(x)\\ =\\ T_1\\ -\\ (T_1\\ -\\ T_2)*x/L\\ +\\ \\sum _{n=1}^{\\infty} A_n  sin(n*\\pi x/L)$$\n",
    "\n",
    "$$ A_n\\ =\\ 2/L \\int _0^L T_0 sin(n\\pi x/L) dx$$\n",
    "\n",
    "$$T(x,t)\\ =\\ T_1\\ -\\ (T_1\\ -\\ T_2)*x/L\\ +\\ 2/L \\sum _{n=1}^{\\infty}  e^{-\\alpha (n\\pi /L)^2 t} sin(n \\pi x/L) \\int _0^L T_0 sin(n\\pi x/L)$$\n",
    "\n",
    "$$A_n\\ =\\ 2/(n\\pi)[(-1)^n T_2\\ -\\ T_1]\\ +\\ 2/L \\int _0^L T_0 sin(n\\pi x/L)dx $$\n",
    "\n",
    "$$A_n\\ =\\ 2/(n\\pi)[(-1)^n T_2\\ -\\ T_1]\\ +\\ 2/(n\\pi) [1-(-1)^n]T_0 $$"
   ]
  },
  {
   "cell_type": "markdown",
   "metadata": {},
   "source": [
    "## How to read a paper\n",
    "\n",
    "- what is a peer-reviewed article?\n",
    "    - based on an archaic principle from Old English times (Royal Society of Chemistry)\n",
    "    - do science experiments, write a report on the results and findings, and distribute to a small circle of others who understand your specific research field in the form of a manuscript. prior to publication, get it checked and reviewed by peers to ensure the study is valid (not a perfect system)\n",
    "- first, how do we find papers? Google Scholar and alerts on specific researchers\n",
    "- how do we categorize and organize papers? Citation manager. Mendeley, Zotero, Paperpile\n",
    "- how do we navigate a research field? review papers and perspectives, letters and research papers \n",
    "\n",
    "- quick skim: intro, figures and figure captions, conclusion\n",
    "- then: dig into each section"
   ]
  },
  {
   "cell_type": "markdown",
   "metadata": {},
   "source": [
    "## Problem Set 4\n",
    "\n",
    "1. For Problem 1 in Problem Set 3, pick one of the two boundary conditions, now assume non-steady-state conditions and plot an animation of the resulting changes in temperature profile. Provide some exact temperature measurements at several locations (you pick). Show/explain the code, the assumptions made, and the finite difference approach used.  \n",
    "\n",
    "2. Read (to be discussed as a group in class) and try to digest:\n",
    "\n",
    " https://www.sciencedirect.com/science/article/pii/S0378775313019502#sec2 \n",
    "\n",
    " https://doi.org/10.1016/j.jpowsour.2014.06.080\n",
    "\n",
    " https://doi.org/10.1016/j.est.2020.101668\n",
    "\n"
   ]
  }
 ],
 "metadata": {
  "kernelspec": {
   "display_name": "wesleychang-voY7E120",
   "language": "python",
   "name": "python3"
  },
  "language_info": {
   "codemirror_mode": {
    "name": "ipython",
    "version": 3
   },
   "file_extension": ".py",
   "mimetype": "text/x-python",
   "name": "python",
   "nbconvert_exporter": "python",
   "pygments_lexer": "ipython3",
   "version": "3.8.10"
  },
  "orig_nbformat": 4
 },
 "nbformat": 4,
 "nbformat_minor": 2
}
