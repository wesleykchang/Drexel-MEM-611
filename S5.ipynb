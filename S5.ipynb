{
 "cells": [
  {
   "cell_type": "markdown",
   "metadata": {},
   "source": [
    "## Unsteady-state Heat Conduction\n",
    "\n",
    "- Most real situations are time-dependent, i.e. initial temperature distribution may not be in thermal equilibrium with the boundary temperature \n",
    "    e.g. batteries generate their own heat upon charge and discharge, but are also thermally heated and cooled with external coolant fluid in EVs \n",
    "- Biot number is a dimensionless value that indicates this - internal heat resistance versus surface resistance. Bi << 1 if surface resistance dominates and internal resistance is low. in other words, heat transfer to the system is instantaneously distributed throughout the entire system such that temperature is immediately uniform throughout \n",
    "\n",
    "### Example\n",
    "\n",
    "Say we have an idealized situation where heat transfer is only in one dimension (x) and y and z directions have no temperature gradients\n",
    "\n",
    "$$d^2 T/dx^2\\ =\\ 1/\\alpha * dT/dt$$\n",
    "\n",
    "with B.C.'s $$T(x,0)\\ =\\ f(x)\\\\ T(0,t)\\ =\\ 0\\\\ T(L,t)\\ =\\ 0 $$\n",
    "\n",
    "we assume the existence of some solution via separation of variables, in the form: $$T(x,t)\\ =\\ e^{-\\alpha \\lambda ^2 t}(A*sin(\\lambda x)+B*cos(\\lambda x)) $$\n",
    "\n",
    "1. apply separation of variables\n",
    "\n",
    "$$T(x,t)\\ =\\ X(x)*\\Gamma(t) $$\n",
    "\n",
    "$$\\Gamma(t)*d^2X/dx^2\\ =\\ 1/\\alpha * X(x)*dT/dt = $$\n",
    "\n",
    "$$(1/X(x))*d^2X/dx^2 =  1/(\\alpha *\\Gamma(t))* dT/dt$$\n",
    "\n",
    "Set both sides equal to a constant, $$-\\lambda^2 $$\n",
    "\n",
    "2. solve\n",
    "\n",
    "integrate RHS: $$1/\\alpha * ln(\\Gamma(t))\\ =\\ -\\lambda^2 * t$$\n",
    "\n",
    "$$\\Gamma(t)\\ =\\ e^{-\\alpha * \\lambda^2 t} $$\n",
    "\n",
    "integrate LHS: $$X\"\\ +\\ \\lambda^2*X(x)\\ =\\ 0 $$\n",
    "\n",
    "$$X(x)\\ =\\ A*cos(\\lambda x)\\ +\\ B*sin(\\lambda x) $$\n",
    "\n",
    "3. apply BCs\n",
    "\n",
    "$$ T(x,t)\\ =\\ e^{-\\alpha  \\lambda ^2 t} *(A*sin(\\lambda x)\\ +\\ B*cos(\\lambda x))$$\n"
   ]
  }
 ],
 "metadata": {
  "language_info": {
   "name": "python"
  },
  "orig_nbformat": 4
 },
 "nbformat": 4,
 "nbformat_minor": 2
}
