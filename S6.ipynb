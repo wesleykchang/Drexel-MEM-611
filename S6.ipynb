{
 "cells": [
  {
   "cell_type": "markdown",
   "metadata": {},
   "source": [
    "## Case study on heat transfer in Li-ion batteries\n",
    "\n",
    "(45 min) Get into groups and discuss papers\n",
    "\n",
    "Group 1 - Paper 1 \n",
    "Group 2 - Paper 2\n",
    "Group 3 - Paper 3\n",
    "\n",
    "- how is heat transfer involved?\n",
    "- what is their main hypothesis?\n",
    "- what heat transfer equation are they using? what are their assumptions? boundary conditions? \n",
    "- how are they measuring? do we trust their conclusions?\n",
    "- what are the practical implications of the study? \n",
    "\n",
    "(break)\n",
    "\n",
    "(15 min) Group discussion of paper 1\n",
    "- draw schematic (on screen or whiteboard)\n",
    "- write down main equations and their assumptions\n",
    "- everyone else ask at least 1 question and diagram out a process flow diagram that explains the paper in boxes and arrows\n",
    "\n",
    "(15 min) Group discussion of paper 2\n",
    "- draw schematic (on screen or whiteboard)\n",
    "- write down main equations and their assumptions\n",
    "- everyone else ask at least 1 question and diagram out a process flow diagram that explains the paper in boxes and arrows\n",
    "\n",
    "(15 min) Group discussion of paper 3\n",
    "- draw schematic (on screen or whiteboard)\n",
    "- write down main equations and their assumptions\n",
    "- everyone else ask at least 1 question and diagram out a process flow diagram that explains the paper in boxes and arrows\n"
   ]
  }
 ],
 "metadata": {
  "language_info": {
   "name": "python"
  }
 },
 "nbformat": 4,
 "nbformat_minor": 2
}
