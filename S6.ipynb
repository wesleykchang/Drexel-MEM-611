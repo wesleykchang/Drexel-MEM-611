{
 "cells": [
  {
   "cell_type": "markdown",
   "metadata": {},
   "source": [
    "## Project: Thermal Conductivity Measurements\n",
    "\n",
    "### Methodology \n",
    "\n",
    "1. download Arduino IDE on your computer and connect the Elegoo \n",
    "2. wire up the two thermistors correctly to the Elegoo microcontroller\n",
    "3. setup the arduino script to read temperature measurements from both thermistors\n",
    "4. place the two thermistors on either end of a material of your choice\n",
    "5. knowing the thickness and temperature measurements, determine the thermal conductivity and compare with known value\n",
    "6. model it with python\n",
    "7. write a report (intro, methodology, results and discussion, an example of a practical implication in engineering design)"
   ]
  }
 ],
 "metadata": {
  "language_info": {
   "name": "python"
  },
  "orig_nbformat": 4
 },
 "nbformat": 4,
 "nbformat_minor": 2
}
