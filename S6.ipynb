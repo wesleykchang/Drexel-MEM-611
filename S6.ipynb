{
 "cells": [
  {
   "cell_type": "markdown",
   "metadata": {},
   "source": [
    "## Case study on heat transfer in Li-ion batteries\n",
    "\n",
    "(20 min) Get into groups and discuss papers\n",
    "\n",
    "Group 1 - Paper 1 \n",
    "Group 2 - Paper 2\n",
    "Group 3 - Paper 3\n",
    "\n",
    "- how is heat transfer involved?\n",
    "- what is their main hypothesis?\n",
    "- what heat transfer equation are they using? what are their assumptions? boundary conditions? \n",
    "- how are they measuring? do we trust their conclusions?\n",
    "- what are the practical implications of the study? "
   ]
  }
 ],
 "metadata": {
  "language_info": {
   "name": "python"
  }
 },
 "nbformat": 4,
 "nbformat_minor": 2
}
