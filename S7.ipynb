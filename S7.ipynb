{
 "cells": [
  {
   "cell_type": "markdown",
   "metadata": {},
   "source": [
    "## Solutions with Integral Transforms\n",
    "\n",
    "Oftentimes separation of variables is not possible. \n",
    "\n",
    "We previously saw how to determine the finite Fourier transform of the function f(x) over the interval (0, L). \n",
    "\n",
    "Specifically, the finite Fourier sine transform and finite Fourier cosine transform were developed from the expansions of an arbitrary function f(x) of a certain characteristic value problem\n",
    "\n",
    "$$\\frac{d^2 y}{dx^2}\\ +\\ \\lambda ^2 y\\ =\\ 0 $$\n",
    "\n",
    "$$\\alpha _1 y(0)\\ +\\ \\beta _1 \\frac{dy(0)}{dx}\\ =\\ 0 $$\n",
    "\n",
    "$$\\alpha _2 y(L)\\ +\\ \\beta _2 \\frac{dy(L)}{dx}\\ =\\ 0 $$\n",
    "\n",
    "as shown by the Table in Session 4 the function f(x) can be expanded in a series of characteristic functions as \n",
    "\n",
    "$$f(x)\\ =\\ \\sum _{n=0}^{\\infty} A_n \\phi _n(x) $$\n",
    "\n",
    "where $$A_n\\ =\\ 1/N_n \\int _0^L f(x) \\phi _n (x) dx $$"
   ]
  },
  {
   "cell_type": "markdown",
   "metadata": {},
   "source": [
    "## Solutions with Laplace Transforms\n",
    "\n",
    "What is a Laplace Transform?\n",
    "\n",
    "Let f(t) be a function of t defined for t > 0 (if t = 0 or less than 0 then it is undefined)\n",
    "\n",
    "Multiply f(t) by exp(-pt) and integrate \n",
    "\n",
    "$$\\overline{f} (p)\\ =\\ \\mathscr{L} (f(t))\\ =\\ \\int _0^\\infty e^{-pt} f(t) dt $$\n",
    "\n",
    "If this integral converges for some values of p, it is the Laplace transform. otherwise, the Laplace transform does not exist \n",
    "\n",
    "### Example\n",
    "\n",
    "let f(t) = 1 when t > 0 \n",
    "\n",
    "$$\\mathscr{L} (1)\\ =\\ \\int _0^\\infty e^{-pt} dt\\ =\\ 1/p\\ (p>0)  $$\n",
    "\n",
    "### Example\n",
    "\n",
    "if f(t) when t > 0\n",
    "\n",
    "$$\\mathscr{L} (t)\\ =\\ \\int _0^\\infty e^{-pt} dt\\ =\\ 1/p^2\\ (p>0)  $$\n",
    "\n",
    "There exists a table of many common Laplace transforms..."
   ]
  },
  {
   "cell_type": "markdown",
   "metadata": {},
   "source": [
    "## The Similarity Method\n",
    "\n"
   ]
  }
 ],
 "metadata": {
  "language_info": {
   "name": "python"
  },
  "orig_nbformat": 4
 },
 "nbformat": 4,
 "nbformat_minor": 2
}
