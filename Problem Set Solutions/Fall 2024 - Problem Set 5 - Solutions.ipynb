{
 "cells": [
  {
   "cell_type": "markdown",
   "metadata": {},
   "source": [
    "(a) recognizing that both the initial condition and the boundary condition at L are equal to a constant temperature, we can do a change of variable: $\\theta(x,t)\\ =\\ T(x,t)\\ -\\ T_i$ so that the general equation is $$\\frac{\\partial ^2 \\theta}{\\partial x^2}\\ +\\ \\frac{\\dot{q}}{k}[1\\ +\\ \\beta \\theta]\\ =\\ \\frac{1}{\\alpha}\\frac{\\partial \\theta}{\\partial t}$$\n",
    "\n",
    "with initial condition $\\theta(x,0)\\ =\\ 0$ and boundary conditions $\\frac{\\partial \\theta}{\\partial x}|_{x=0}$ and $\\theta(L,t)\\ =\\ 0$\n",
    "\n",
    "(b) the integral transform is defined as $\\overline{\\theta}_n(t)\\ =\\ \\int_0^L \\theta(x,t) K_n(x) dx$\n",
    "\n",
    "from Table 7.1, we have a boundary condition of the second kind at x = 0, and a boundary condition of the first kind at x = L. so, the Kernal is $K_n(x)\\ =\\ \\sqrt{2/L} cos(\\lambda _n x)$ with $\\lambda _n\\ =\\ \\frac{(2n-1)\\pi}{2L}$ with n = 1,2,3,...\n",
    "\n",
    "(c) take the integral transform of the general equation\n",
    "\n",
    "$\\int_0^L \\frac{\\partial ^2 \\theta}{\\partial x^2} K_n(x) dx\\ +\\ \\frac{\\dot{q}}{k} \\int_0^L K_n(x)dx\\ +\\ \\frac{\\beta \\dot{q}}{k} \\overline{\\theta}_n(t)\\ =\\ \\frac{1}{\\alpha} \\frac{d\\theta _n}{dt}$\n",
    "\n",
    "the first term is equal to $-\\lambda _n^2 \\overline{\\theta}_n(t)$ after doing integration by parts twice. \n",
    "\n",
    "for the second term, integrate the kernel function to get a sine function. note that $K_n(x=L)\\ =\\ \\sqrt{2/L} \\frac{(-1)^n}{\\lambda _n}$\n",
    "\n",
    "thus $\\frac{1}{\\alpha} \\frac{d\\overline{\\theta}_n(t)}{dt}\\ +\\ (\\lambda _n^2\\ -\\ \\beta \\dot{q}/k)\\overline{\\theta}_n(t)\\ =\\ -\\sqrt{2/L}\\frac{(-1)^n}{\\lambda _n}$\n",
    "\n"
   ]
  }
 ],
 "metadata": {
  "language_info": {
   "name": "python"
  }
 },
 "nbformat": 4,
 "nbformat_minor": 2
}
