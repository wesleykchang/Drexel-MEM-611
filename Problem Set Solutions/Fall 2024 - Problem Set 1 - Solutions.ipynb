{
 "cells": [
  {
   "cell_type": "markdown",
   "metadata": {},
   "source": [
    "1. Get a Python environment setup if not already \n",
    "\n",
    "2. The steady-state temperature distribution in a flat plate is given by the following expression: $$ T = 150 - 400x^2 $$\n",
    "where x is the distance in meters (m) along the width of the plate and is measured from the surface at 150 degrees Celsius. thermal conductivity is 40 W/m-K and thickness is 0.25 m. What is the heat flux at each surface? \n",
    "    a) draw schematic\n",
    "    b) define assumptions \n",
    "    c) define boundary conditions and general equation\n",
    "    d) solve\n",
    "\n",
    "a) schematic should show a flat plate with heat flux in (q1) coming in and heat flux out (q2) going out; thickness is 0.25 meters, and chosen axis coordinate\n",
    "\n",
    "b) at steady-state, isotropic material, constant thermal conductivity \n",
    "\n",
    "c) temperature profile is already given, so use it to solve for the heat flux\n",
    "\n",
    "d) $q_1''\\ =\\ -k(\\partial T/\\partial x)_{x_0}\\ =\\ -k(-800x)\\ =\\ 0\\ W/m^2$\n",
    "\n",
    "$q_2''\\ =\\ -k(\\partial T/\\partial x)_{x=L}\\ =\\ -k(-800L)\\ =\\ 40*800*0.25\\ =\\ 8000\\ W/m^2$\n",
    "\n",
    "heat flux at left wall is zero because at steady-state, the temperature there is constant (no temperature gradient). heat flux on the right side is due to the temperature gradient across the wall\n",
    "\n",
    "\n",
    "3. For the following materials, determine the temperature rise on the opposite side if the cold side of the 1 cm thick slab is subject to a heat flux of q = 5000 W/m-K and is at T = -40 degrees C. \n",
    "\n",
    "    a) silver\n",
    "    b) aluminum\n",
    "    c) ice\n",
    "    d) spruce \n",
    "    e) silica aerogel\n",
    "\n",
    "for each material, look up its thermal conductivity online\n",
    "\n",
    "$q \\ =\\ 5000\\ W/m-K\\ =\\ -k(\\partial T/ \\partial x)\\ =\\ -k(-40 - T)/1 cm$\n",
    "\n",
    "4. The temperature profile at some location in water flowing over a flat surface is: $T\\ =\\ 20\\ +\\ 80e^{-800y}$ in Celsius, where y is the distance in meters normal to the surface with y = 0 corresponding to the surface. What is the heat transfer coefficient at this location? Assume a thermal conductivity of water of 0.62 W/m-K. \n",
    "\n",
    "a) schematic\n",
    "b) assumptions\n",
    "\n",
    "c) use the one dimensional cartesian form of Fourier's Law: $q\\ =\\ -k(\\partial T/ \\partial y)_{y=0}$\n",
    "\n",
    "and the boundary condition: $q\\ =\\ h(T_w\\ -\\ T_\\infty)$\n",
    "\n",
    "d) solve\n",
    "\n",
    "$h\\ =\\ -k(\\partial T/ \\partial y)_{y=0}/(T_w\\ -\\ T_\\infty)\\ =\\ -0.62*(-80*800)/(100-20)\\ =\\ 496\\ W/m^2-K$"
   ]
  }
 ],
 "metadata": {
  "language_info": {
   "name": "python"
  }
 },
 "nbformat": 4,
 "nbformat_minor": 2
}
